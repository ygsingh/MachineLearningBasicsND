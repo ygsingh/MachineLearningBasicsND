{
 "cells": [
  {
   "cell_type": "markdown",
   "metadata": {},
   "source": [
    "# Linear Regression \n",
    "\n",
    "In this quiz, you'll be working with data on the average life expectancy at birth and the average BMI for malesacross the world. The data comes from [Gapminder](https://www.gapminder.org/)\n",
    "\n",
    "The data file can be found labelled `bmi_and_life_expectancy.csv`. It includes three columns, containing the following data:\n",
    "\n",
    "- **Country** - The country the person was born in.\n",
    "- **Life expectancy** - The average life expectancy at birth for a person in that country\n",
    "- **BMI** - The mean BMI of males in that country.\n",
    "\n",
    "You'll need to complete each of the following steps:"
   ]
  },
  {
   "cell_type": "code",
   "execution_count": 10,
   "metadata": {},
   "outputs": [],
   "source": [
    "# import required libraries\n",
    "from sklearn.linear_model import LinearRegression\n",
    "import pandas as pd\n",
    "import matplotlib.pyplot as plt"
   ]
  },
  {
   "cell_type": "markdown",
   "metadata": {},
   "source": [
    "## Load the data\n",
    "\n",
    "- The data is in the file called `bmi_and_life_expectancy.csv`.\n",
    "- Use pandas `read_csv` to load the data into a dataframe.\n",
    "- Assign the dataframe to the variable `bmi_life_data`."
   ]
  },
  {
   "cell_type": "code",
   "execution_count": 11,
   "metadata": {},
   "outputs": [],
   "source": [
    "bmi_life_data = pd.read_csv(\"bmi_and_life_expectancy.csv\")"
   ]
  },
  {
   "cell_type": "markdown",
   "metadata": {},
   "source": [
    "## Build a linear regression model\n",
    "\n",
    "- Create a regression model using scikit-learn's `LinearRegression` and assign it to `bmi_life_model`.\n",
    "- Fir the model to the data."
   ]
  },
  {
   "cell_type": "code",
   "execution_count": 12,
   "metadata": {},
   "outputs": [
    {
     "data": {
      "text/plain": [
       "LinearRegression(copy_X=True, fit_intercept=True, n_jobs=None, normalize=False)"
      ]
     },
     "execution_count": 12,
     "metadata": {},
     "output_type": "execute_result"
    }
   ],
   "source": [
    "bmi_life_model = LinearRegression()\n",
    "x = bmi_life_data[['BMI']]\n",
    "y =  bmi_life_data[['Life expectancy']]\n",
    "bmi_life_model.fit(x,y)"
   ]
  },
  {
   "cell_type": "code",
   "execution_count": 14,
   "metadata": {},
   "outputs": [
    {
     "data": {
      "image/png": "[encoded data removed]",
      "text/plain": [
       "<Figure size 432x288 with 1 Axes>"
      ]
     },
     "metadata": {
      "needs_background": "light"
     },
     "output_type": "display_data"
    }
   ],
   "source": [
    "plt.scatter(x,y);"
   ]
  },
  {
   "cell_type": "markdown",
   "metadata": {},
   "source": [
    "## Predict using the model\n",
    "\n",
    "- Predict using a BMI of 21.07931 and assign it to the variable `laos_life_exp`."
   ]
  },
  {
   "cell_type": "code",
   "execution_count": 15,
   "metadata": {
    "scrolled": true
   },
   "outputs": [],
   "source": [
    "laos_life_exp = bmi_life_model.predict([[21.07931]])"
   ]
  },
  {
   "cell_type": "code",
   "execution_count": 16,
   "metadata": {},
   "outputs": [
    {
     "name": "stdout",
     "output_type": "stream",
     "text": [
      "Predicted life expectancy:  [[60.31564716]]\n"
     ]
    }
   ],
   "source": [
    "print(\"Predicted life expectancy: \",laos_life_exp)"
   ]
  }
 ],
 "metadata": {
  "kernelspec": {
   "display_name": "Python 3",
   "language": "python",
   "name": "python3"
  },
  "language_info": {
   "codemirror_mode": {
    "name": "ipython",
    "version": 3
   },
   "file_extension": ".py",
   "mimetype": "text/x-python",
   "name": "python",
   "nbconvert_exporter": "python",
   "pygments_lexer": "ipython3",
   "version": "3.7.4"
  }
 },
 "nbformat": 4,
 "nbformat_minor": 2
}
